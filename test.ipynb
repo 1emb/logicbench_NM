{
 "cells": [
  {
   "cell_type": "code",
   "execution_count": 2,
   "metadata": {},
   "outputs": [],
   "source": [
    "import argparse"
   ]
  },
  {
   "cell_type": "code",
   "execution_count": 9,
   "metadata": {},
   "outputs": [],
   "source": [
    "def main():\n",
    "    parser = argparse.ArgumentParser()\n",
    "    parser.add_argument('--axiom_name', \n",
    "                        type=str, \n",
    "                        default='hypothetical_syllogism',\n",
    "                        required=False, \n",
    "                        help=\"Give a axiom name for which you want to generate data\")\n",
    "    parser.add_argument('--save_dir', \n",
    "                        type=str, \n",
    "                        default='/data/data/mihir/lr_data/rules/',\n",
    "                        required=False, \n",
    "                        help=\"Give a path where you want to save generated data\")\n",
    "    parser.add_argument('--prompt', \n",
    "                        type=str, \n",
    "                        default=\"Understand a given rule and generate a set of sentences as per instruction.\\nRule: If p, then q. If q, then r. Therefore, If p, then r.\\nYou only need to generate meaningful sentences corresponding to p,q, and r.\\n\\nInstruction: Understand the below examples to learn the connection between sentences and how they have been used. Use that understanding to generate coherent sentences. \\nExample 1:\\np: Katie finishes all her homework.\\nq: She can go to the party.\\nr: She will be drunk.\\n\\nContext: If Katie finishes all her homework, then she can go to the party. If she is at the party, then she will be drunk.\\nQuestion: If Katie finishes her homework, does that imply she is drunk?\\nAnswer: Yes\\n\\nExample 2: \\np: Alice eats junk food.\\nq: She will gain weight.\\nr: She won't be able to participate in the marathon.\\n\\nContext: If Alice eats junk food, then she will gain weight. If she gains weight, then she won't be able to participate in the marathon.\\nQuestion: If Alice eats junk food implies that she won't be able to participate in the marathon?\\nAnswer: Yes\\n\\nExample 3:  \\np: John runs for two hours.\\nq: He will be exhausted.\\nr: He will take a break.\\n\\nContext: If John runs for two hours, then he will be exhausted. If he is exhausted, then he will take a break. \\nQuestion: If John is exhausted, does that mean he will take a break?\\nAnswer: Yes\\n\\nGenerate only one pair of p,q, and r based on the above understanding. \\nFormat: \\n1. Generate each sentence in a new line.\\n2. Do not generate p, q, and r prefixes.\",\n",
    "                        required=False, \n",
    "                        help=\"Give a prompt to generate data\")\n",
    "    parser.add_argument('--num_samples', \n",
    "                        type=int, \n",
    "                        default=10,\n",
    "                        required=False, \n",
    "                        help=\"Input the number of sentences you want to generate\")\n",
    "\n",
    "    args = parser.parse_args(args=[])\n",
    "    return args"
   ]
  },
  {
   "cell_type": "code",
   "execution_count": 15,
   "metadata": {},
   "outputs": [
    {
     "name": "stdout",
     "output_type": "stream",
     "text": [
      "hypothetical_syllogism\n"
     ]
    },
    {
     "ename": "AttributeError",
     "evalue": "'str' object has no attribute 'save_dir'",
     "output_type": "error",
     "traceback": [
      "\u001b[1;31m---------------------------------------------------------------------------\u001b[0m",
      "\u001b[1;31mAttributeError\u001b[0m                            Traceback (most recent call last)",
      "\u001b[1;32md:\\doctorate\\NMSU\\logicbench\\test.ipynb Cell 3\u001b[0m line \u001b[0;36m<cell line: 1>\u001b[1;34m()\u001b[0m\n\u001b[0;32m      <a href='vscode-notebook-cell:/d%3A/doctorate/NMSU/logicbench/test.ipynb#W1sZmlsZQ%3D%3D?line=1'>2</a>\u001b[0m \u001b[39mprint\u001b[39m(main()\u001b[39m.\u001b[39maxiom_name)\n\u001b[0;32m      <a href='vscode-notebook-cell:/d%3A/doctorate/NMSU/logicbench/test.ipynb#W1sZmlsZQ%3D%3D?line=2'>3</a>\u001b[0m \u001b[39mfor\u001b[39;00m i \u001b[39min\u001b[39;00m \u001b[39mvars\u001b[39m(main()):\n\u001b[1;32m----> <a href='vscode-notebook-cell:/d%3A/doctorate/NMSU/logicbench/test.ipynb#W1sZmlsZQ%3D%3D?line=3'>4</a>\u001b[0m     \u001b[39mprint\u001b[39m(i\u001b[39m.\u001b[39;49msave_dir)\n",
      "\u001b[1;31mAttributeError\u001b[0m: 'str' object has no attribute 'save_dir'"
     ]
    }
   ],
   "source": [
    "if __name__==\"__main__\":\n",
    "    print(main().axiom_name)\n",
    "    for i in vars(main()):\n",
    "        print(i.save_dir)\n"
   ]
  },
  {
   "cell_type": "code",
   "execution_count": null,
   "metadata": {},
   "outputs": [],
   "source": []
  }
 ],
 "metadata": {
  "kernelspec": {
   "display_name": "Python 3",
   "language": "python",
   "name": "python3"
  },
  "language_info": {
   "codemirror_mode": {
    "name": "ipython",
    "version": 3
   },
   "file_extension": ".py",
   "mimetype": "text/x-python",
   "name": "python",
   "nbconvert_exporter": "python",
   "pygments_lexer": "ipython3",
   "version": "3.10.1"
  }
 },
 "nbformat": 4,
 "nbformat_minor": 2
}
